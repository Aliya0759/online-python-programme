{
 "cells": [
  {
   "cell_type": "code",
   "execution_count": 1,
   "id": "1e39d45f",
   "metadata": {},
   "outputs": [
    {
     "name": "stdout",
     "output_type": "stream",
     "text": [
      " Twinkle, twinkle little star,\n",
      "                  How I wonder what you are!\n",
      "                        Up above the world so high,\n",
      "                        like a dimond in the sky.\n",
      "         Twinkle, twinkle little star,\n",
      "                  How I wonder what you are\n"
     ]
    }
   ],
   "source": [
    "a= \"\"\" Twinkle, twinkle little star,\n",
    "                  How I wonder what you are!\n",
    "                        Up above the world so high,\n",
    "                        like a dimond in the sky.\n",
    "         Twinkle, twinkle little star,\n",
    "                  How I wonder what you are\"\"\"\n",
    "print(a)"
   ]
  },
  {
   "cell_type": "code",
   "execution_count": 2,
   "id": "d69b23e1",
   "metadata": {},
   "outputs": [
    {
     "name": "stdout",
     "output_type": "stream",
     "text": [
      "python version\n",
      "3.9.7 (default, Sep 16 2021, 16:59:28) [MSC v.1916 64 bit (AMD64)]\n"
     ]
    }
   ],
   "source": [
    "import sys\n",
    "print(\"python version\")\n",
    "print(sys.version)"
   ]
  },
  {
   "cell_type": "code",
   "execution_count": 3,
   "id": "f30b244d",
   "metadata": {},
   "outputs": [
    {
     "name": "stdout",
     "output_type": "stream",
     "text": [
      "python version\n",
      "3.9.7 (default, Sep 16 2021, 16:59:28) [MSC v.1916 64 bit (AMD64)]\n",
      "version information\n",
      "sys.version_info(major=3, minor=9, micro=7, releaselevel='final', serial=0)\n"
     ]
    }
   ],
   "source": [
    "import sys \n",
    "print(\"python version\")\n",
    "print(sys.version)\n",
    "print(\"version information\")\n",
    "print(sys.version_info)"
   ]
  },
  {
   "cell_type": "code",
   "execution_count": 6,
   "id": "712a3759",
   "metadata": {},
   "outputs": [
    {
     "name": "stdout",
     "output_type": "stream",
     "text": [
      "current date and time is:\n",
      "22-01-01 11:18:14\n"
     ]
    }
   ],
   "source": [
    "import datetime \n",
    "now = datetime.datetime.now()\n",
    "print(\"current date and time is:\")\n",
    "print(now.strftime(\"%y-%m-%d %H:%M:%S\"))"
   ]
  },
  {
   "cell_type": "code",
   "execution_count": 7,
   "id": "2eceb47f",
   "metadata": {},
   "outputs": [
    {
     "name": "stdout",
     "output_type": "stream",
     "text": [
      "fasuoY ayilA \n"
     ]
    }
   ],
   "source": [
    "txt = \" Aliya Yousaf\"[::-1]\n",
    "print(txt)"
   ]
  },
  {
   "cell_type": "code",
   "execution_count": 9,
   "id": "0e8f637b",
   "metadata": {},
   "outputs": [
    {
     "name": "stdout",
     "output_type": "stream",
     "text": [
      "type of number:30\n",
      "type of another number:40\n",
      "the sum of numbers is: 70\n"
     ]
    }
   ],
   "source": [
    "x = input(\"type of number:\")\n",
    "y = input(\"type of another number:\")\n",
    "sum = int(x)+int(y)\n",
    "print(\"the sum of numbers is:\", sum)"
   ]
  },
  {
   "cell_type": "code",
   "execution_count": 10,
   "id": "2e25bd4e",
   "metadata": {},
   "outputs": [
    {
     "name": "stdout",
     "output_type": "stream",
     "text": [
      " Please Enter the radius of a circle: 2\n",
      " Area Of a Circle = 12.56\n"
     ]
    }
   ],
   "source": [
    "PI = 3.14\n",
    "r = float(input(' Please Enter the radius of a circle: '))\n",
    "area = PI * r * r\n",
    "\n",
    "print(\" Area Of a Circle = %.2f\" %area)\n"
   ]
  },
  {
   "cell_type": "code",
   "execution_count": null,
   "id": "a8a158e4",
   "metadata": {},
   "outputs": [],
   "source": []
  },
  {
   "cell_type": "code",
   "execution_count": null,
   "id": "bfc8cc66",
   "metadata": {},
   "outputs": [],
   "source": []
  }
 ],
 "metadata": {
  "kernelspec": {
   "display_name": "Python 3 (ipykernel)",
   "language": "python",
   "name": "python3"
  },
  "language_info": {
   "codemirror_mode": {
    "name": "ipython",
    "version": 3
   },
   "file_extension": ".py",
   "mimetype": "text/x-python",
   "name": "python",
   "nbconvert_exporter": "python",
   "pygments_lexer": "ipython3",
   "version": "3.9.7"
  }
 },
 "nbformat": 4,
 "nbformat_minor": 5
}
